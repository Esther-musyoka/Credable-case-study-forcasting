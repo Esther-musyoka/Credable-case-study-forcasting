{
 "cells": [
  {
   "cell_type": "code",
   "execution_count": 1,
   "id": "be712b68",
   "metadata": {},
   "outputs": [
    {
     "name": "stdout",
     "output_type": "stream",
     "text": [
      "dict_keys(['Disbursements', 'Repayments'])\n"
     ]
    }
   ],
   "source": [
    "import pandas as pd\n",
    "\n",
    "# Load the Excel file with all sheets\n",
    "df_dict = pd.read_excel(\"BI_Analyst_Case_Study_Data.xlsx\", sheet_name=None)\n",
    "\n",
    "# Display sheet names\n",
    "print(df_dict.keys())"
   ]
  },
  {
   "cell_type": "code",
   "execution_count": 2,
   "id": "db0a1faa",
   "metadata": {},
   "outputs": [],
   "source": [
    "Disbursements_df = df_dict[\"Disbursements\"]  \n",
    "Repayments_df = df_dict[\"Repayments\"]\n"
   ]
  },
  {
   "cell_type": "code",
   "execution_count": 3,
   "id": "aaf8d5c1",
   "metadata": {},
   "outputs": [
    {
     "data": {
      "text/html": [
       "<div>\n",
       "<style scoped>\n",
       "    .dataframe tbody tr th:only-of-type {\n",
       "        vertical-align: middle;\n",
       "    }\n",
       "\n",
       "    .dataframe tbody tr th {\n",
       "        vertical-align: top;\n",
       "    }\n",
       "\n",
       "    .dataframe thead th {\n",
       "        text-align: right;\n",
       "    }\n",
       "</style>\n",
       "<table border=\"1\" class=\"dataframe\">\n",
       "  <thead>\n",
       "    <tr style=\"text-align: right;\">\n",
       "      <th></th>\n",
       "      <th>customer_id</th>\n",
       "      <th>disb_date</th>\n",
       "      <th>tenure</th>\n",
       "      <th>account_num</th>\n",
       "      <th>loan_amount</th>\n",
       "      <th>loan_fee</th>\n",
       "      <th>Unnamed: 6</th>\n",
       "      <th>rate</th>\n",
       "      <th>Unnamed: 8</th>\n",
       "      <th>Unnamed: 9</th>\n",
       "    </tr>\n",
       "  </thead>\n",
       "  <tbody>\n",
       "    <tr>\n",
       "      <th>0</th>\n",
       "      <td>91810ca1aa097db79f050f38e9946fa5482b4e28c925e2...</td>\n",
       "      <td>2024-03-19</td>\n",
       "      <td>14 days</td>\n",
       "      <td>3O66YENWELA6E2H1R9YLX0LDZNOMNHD4</td>\n",
       "      <td>360</td>\n",
       "      <td>43.2</td>\n",
       "      <td>NaN</td>\n",
       "      <td>12.0</td>\n",
       "      <td>NaN</td>\n",
       "      <td>NaN</td>\n",
       "    </tr>\n",
       "    <tr>\n",
       "      <th>1</th>\n",
       "      <td>42ca06e6fe1ff9803e82a5c20184671b54090e488f78d6...</td>\n",
       "      <td>2024-03-19</td>\n",
       "      <td>7 days</td>\n",
       "      <td>6XWHXKKR1W2HIA8I0V75PZFZBXUUGSVO</td>\n",
       "      <td>70</td>\n",
       "      <td>7.0</td>\n",
       "      <td>NaN</td>\n",
       "      <td>10.0</td>\n",
       "      <td>NaN</td>\n",
       "      <td>403.2</td>\n",
       "    </tr>\n",
       "    <tr>\n",
       "      <th>2</th>\n",
       "      <td>b23747f53af805e18ad16a4ef235b6642d88f9134644ff...</td>\n",
       "      <td>2024-03-19</td>\n",
       "      <td>7 days</td>\n",
       "      <td>OCGK3RJZ91A999VXD4VB3LATPSME3J5L</td>\n",
       "      <td>3500</td>\n",
       "      <td>350.0</td>\n",
       "      <td>NaN</td>\n",
       "      <td>10.0</td>\n",
       "      <td>NaN</td>\n",
       "      <td>NaN</td>\n",
       "    </tr>\n",
       "    <tr>\n",
       "      <th>3</th>\n",
       "      <td>1bd32f9b083fc6ddfffd65730fbfa66654fa76a19b0b0e...</td>\n",
       "      <td>2024-03-19</td>\n",
       "      <td>14 days</td>\n",
       "      <td>9X3Q682DOR7927IMMJLFHBGP0RP7YF5C</td>\n",
       "      <td>3500</td>\n",
       "      <td>420.0</td>\n",
       "      <td>NaN</td>\n",
       "      <td>12.0</td>\n",
       "      <td>NaN</td>\n",
       "      <td>NaN</td>\n",
       "    </tr>\n",
       "    <tr>\n",
       "      <th>4</th>\n",
       "      <td>e7cfbaa97ba7702c52df5f1dddba54bd26923ebad945f1...</td>\n",
       "      <td>2024-03-19</td>\n",
       "      <td>7 days</td>\n",
       "      <td>AQH88NNF8S76MGJL4J4ULEAE18O0KLWH</td>\n",
       "      <td>120</td>\n",
       "      <td>12.0</td>\n",
       "      <td>NaN</td>\n",
       "      <td>10.0</td>\n",
       "      <td>NaN</td>\n",
       "      <td>NaN</td>\n",
       "    </tr>\n",
       "  </tbody>\n",
       "</table>\n",
       "</div>"
      ],
      "text/plain": [
       "                                         customer_id  disb_date   tenure  \\\n",
       "0  91810ca1aa097db79f050f38e9946fa5482b4e28c925e2... 2024-03-19  14 days   \n",
       "1  42ca06e6fe1ff9803e82a5c20184671b54090e488f78d6... 2024-03-19   7 days   \n",
       "2  b23747f53af805e18ad16a4ef235b6642d88f9134644ff... 2024-03-19   7 days   \n",
       "3  1bd32f9b083fc6ddfffd65730fbfa66654fa76a19b0b0e... 2024-03-19  14 days   \n",
       "4  e7cfbaa97ba7702c52df5f1dddba54bd26923ebad945f1... 2024-03-19   7 days   \n",
       "\n",
       "                        account_num  loan_amount  loan_fee  Unnamed: 6  rate  \\\n",
       "0  3O66YENWELA6E2H1R9YLX0LDZNOMNHD4          360      43.2         NaN  12.0   \n",
       "1  6XWHXKKR1W2HIA8I0V75PZFZBXUUGSVO           70       7.0         NaN  10.0   \n",
       "2  OCGK3RJZ91A999VXD4VB3LATPSME3J5L         3500     350.0         NaN  10.0   \n",
       "3  9X3Q682DOR7927IMMJLFHBGP0RP7YF5C         3500     420.0         NaN  12.0   \n",
       "4  AQH88NNF8S76MGJL4J4ULEAE18O0KLWH          120      12.0         NaN  10.0   \n",
       "\n",
       "  Unnamed: 8  Unnamed: 9  \n",
       "0        NaN         NaN  \n",
       "1        NaN       403.2  \n",
       "2        NaN         NaN  \n",
       "3        NaN         NaN  \n",
       "4        NaN         NaN  "
      ]
     },
     "execution_count": 3,
     "metadata": {},
     "output_type": "execute_result"
    }
   ],
   "source": [
    "# Read data in the 2 sheets\n",
    "Disbursements_df.head()"
   ]
  },
  {
   "cell_type": "code",
   "execution_count": 4,
   "id": "00f4e0ec-e53e-4074-aa24-1360d3e74fb9",
   "metadata": {},
   "outputs": [
    {
     "data": {
      "text/html": [
       "<div>\n",
       "<style scoped>\n",
       "    .dataframe tbody tr th:only-of-type {\n",
       "        vertical-align: middle;\n",
       "    }\n",
       "\n",
       "    .dataframe tbody tr th {\n",
       "        vertical-align: top;\n",
       "    }\n",
       "\n",
       "    .dataframe thead th {\n",
       "        text-align: right;\n",
       "    }\n",
       "</style>\n",
       "<table border=\"1\" class=\"dataframe\">\n",
       "  <thead>\n",
       "    <tr style=\"text-align: right;\">\n",
       "      <th></th>\n",
       "      <th>date_time</th>\n",
       "      <th>customer_id</th>\n",
       "      <th>amount</th>\n",
       "      <th>rep_month</th>\n",
       "      <th>repayment_type</th>\n",
       "    </tr>\n",
       "  </thead>\n",
       "  <tbody>\n",
       "    <tr>\n",
       "      <th>0</th>\n",
       "      <td>27-JUN-24 07.16.36.000000000 AM</td>\n",
       "      <td>683131338d401fda38410a808797b7706bc3e364d0fe77...</td>\n",
       "      <td>500.65</td>\n",
       "      <td>202406</td>\n",
       "      <td>Automatic</td>\n",
       "    </tr>\n",
       "    <tr>\n",
       "      <th>1</th>\n",
       "      <td>27-JUN-24 05.26.50.000000000 PM</td>\n",
       "      <td>56a41251185bd205961556399289804607ccc660392837...</td>\n",
       "      <td>2833.33</td>\n",
       "      <td>202406</td>\n",
       "      <td>Automatic</td>\n",
       "    </tr>\n",
       "    <tr>\n",
       "      <th>2</th>\n",
       "      <td>27-JUN-24 06.45.40.000000000 PM</td>\n",
       "      <td>000e57e83f161e4ba6458b3e32c00815405c5a005e652b...</td>\n",
       "      <td>143.98</td>\n",
       "      <td>202406</td>\n",
       "      <td>Automatic</td>\n",
       "    </tr>\n",
       "    <tr>\n",
       "      <th>3</th>\n",
       "      <td>27-JUN-24 01.24.57.000000000 PM</td>\n",
       "      <td>f3606d5ac9a89e0251a60d7183a09bc742eba2e36882af...</td>\n",
       "      <td>1000.00</td>\n",
       "      <td>202406</td>\n",
       "      <td>Automatic</td>\n",
       "    </tr>\n",
       "    <tr>\n",
       "      <th>4</th>\n",
       "      <td>27-JUN-24 01.31.44.000000000 PM</td>\n",
       "      <td>f3606d5ac9a89e0251a60d7183a09bc742eba2e36882af...</td>\n",
       "      <td>801.00</td>\n",
       "      <td>202406</td>\n",
       "      <td>Manual</td>\n",
       "    </tr>\n",
       "  </tbody>\n",
       "</table>\n",
       "</div>"
      ],
      "text/plain": [
       "                         date_time  \\\n",
       "0  27-JUN-24 07.16.36.000000000 AM   \n",
       "1  27-JUN-24 05.26.50.000000000 PM   \n",
       "2  27-JUN-24 06.45.40.000000000 PM   \n",
       "3  27-JUN-24 01.24.57.000000000 PM   \n",
       "4  27-JUN-24 01.31.44.000000000 PM   \n",
       "\n",
       "                                         customer_id   amount  rep_month  \\\n",
       "0  683131338d401fda38410a808797b7706bc3e364d0fe77...   500.65     202406   \n",
       "1  56a41251185bd205961556399289804607ccc660392837...  2833.33     202406   \n",
       "2  000e57e83f161e4ba6458b3e32c00815405c5a005e652b...   143.98     202406   \n",
       "3  f3606d5ac9a89e0251a60d7183a09bc742eba2e36882af...  1000.00     202406   \n",
       "4  f3606d5ac9a89e0251a60d7183a09bc742eba2e36882af...   801.00     202406   \n",
       "\n",
       "  repayment_type  \n",
       "0      Automatic  \n",
       "1      Automatic  \n",
       "2      Automatic  \n",
       "3      Automatic  \n",
       "4         Manual  "
      ]
     },
     "execution_count": 4,
     "metadata": {},
     "output_type": "execute_result"
    }
   ],
   "source": [
    "Repayments_df.head()"
   ]
  },
  {
   "cell_type": "code",
   "execution_count": 5,
   "id": "4bdd8ef4-95f0-485b-a6c6-8576368d2579",
   "metadata": {},
   "outputs": [
    {
     "name": "stdout",
     "output_type": "stream",
     "text": [
      "<class 'pandas.core.frame.DataFrame'>\n",
      "RangeIndex: 26585 entries, 0 to 26584\n",
      "Data columns (total 10 columns):\n",
      " #   Column       Non-Null Count  Dtype         \n",
      "---  ------       --------------  -----         \n",
      " 0   customer_id  26585 non-null  object        \n",
      " 1   disb_date    26585 non-null  datetime64[ns]\n",
      " 2   tenure       26585 non-null  object        \n",
      " 3   account_num  26585 non-null  object        \n",
      " 4   loan_amount  26585 non-null  int64         \n",
      " 5   loan_fee     26585 non-null  float64       \n",
      " 6   Unnamed: 6   0 non-null      float64       \n",
      " 7   rate         121 non-null    float64       \n",
      " 8   Unnamed: 8   3 non-null      object        \n",
      " 9   Unnamed: 9   1 non-null      float64       \n",
      "dtypes: datetime64[ns](1), float64(4), int64(1), object(4)\n",
      "memory usage: 2.0+ MB\n"
     ]
    }
   ],
   "source": [
    "Disbursements_df.info()"
   ]
  },
  {
   "cell_type": "code",
   "execution_count": null,
   "id": "e97a5726-426b-4d94-a356-a7ba0f84cf8a",
   "metadata": {},
   "outputs": [],
   "source": []
  },
  {
   "cell_type": "code",
   "execution_count": 6,
   "id": "7f56f9fc-5dbf-4d65-8e44-0dbd67475a8f",
   "metadata": {
    "scrolled": true
   },
   "outputs": [
    {
     "name": "stdout",
     "output_type": "stream",
     "text": [
      "<class 'pandas.core.frame.DataFrame'>\n",
      "RangeIndex: 66016 entries, 0 to 66015\n",
      "Data columns (total 5 columns):\n",
      " #   Column          Non-Null Count  Dtype  \n",
      "---  ------          --------------  -----  \n",
      " 0   date_time       66016 non-null  object \n",
      " 1   customer_id     66016 non-null  object \n",
      " 2   amount          66016 non-null  float64\n",
      " 3   rep_month       66016 non-null  int64  \n",
      " 4   repayment_type  66016 non-null  object \n",
      "dtypes: float64(1), int64(1), object(3)\n",
      "memory usage: 2.5+ MB\n"
     ]
    }
   ],
   "source": [
    "Repayments_df.info()"
   ]
  },
  {
   "cell_type": "code",
   "execution_count": null,
   "id": "44fc62b4",
   "metadata": {},
   "outputs": [],
   "source": []
  },
  {
   "cell_type": "code",
   "execution_count": 7,
   "id": "49676c1f-832b-4f64-8e0f-83ab969e7bf7",
   "metadata": {},
   "outputs": [],
   "source": [
    "# Check for null values"
   ]
  },
  {
   "cell_type": "code",
   "execution_count": 8,
   "id": "19336a5c",
   "metadata": {},
   "outputs": [
    {
     "name": "stdout",
     "output_type": "stream",
     "text": [
      "customer_id        0\n",
      "disb_date          0\n",
      "tenure             0\n",
      "account_num        0\n",
      "loan_amount        0\n",
      "loan_fee           0\n",
      "Unnamed: 6     26585\n",
      "rate           26464\n",
      "Unnamed: 8     26582\n",
      "Unnamed: 9     26584\n",
      "dtype: int64\n"
     ]
    }
   ],
   "source": [
    "print(Disbursements_df.isnull().sum())  "
   ]
  },
  {
   "cell_type": "code",
   "execution_count": 9,
   "id": "a89486c7",
   "metadata": {},
   "outputs": [
    {
     "name": "stdout",
     "output_type": "stream",
     "text": [
      "date_time         0\n",
      "customer_id       0\n",
      "amount            0\n",
      "rep_month         0\n",
      "repayment_type    0\n",
      "dtype: int64\n"
     ]
    }
   ],
   "source": [
    "print(Repayments_df.isnull().sum()) "
   ]
  },
  {
   "cell_type": "code",
   "execution_count": null,
   "id": "d1817dd6",
   "metadata": {},
   "outputs": [],
   "source": []
  },
  {
   "cell_type": "code",
   "execution_count": 10,
   "id": "39308a4a",
   "metadata": {},
   "outputs": [],
   "source": [
    "# Check for duplicates"
   ]
  },
  {
   "cell_type": "code",
   "execution_count": 11,
   "id": "33f1652a",
   "metadata": {},
   "outputs": [
    {
     "name": "stdout",
     "output_type": "stream",
     "text": [
      "43\n",
      "111\n"
     ]
    }
   ],
   "source": [
    "print(Disbursements_df.duplicated().sum()) \n",
    "print(Repayments_df.duplicated().sum())"
   ]
  },
  {
   "cell_type": "code",
   "execution_count": 12,
   "id": "ee53c375",
   "metadata": {},
   "outputs": [],
   "source": [
    "Disbursements_df.drop_duplicates(inplace = True)\n",
    "Repayments_df.drop_duplicates(inplace = True)\n"
   ]
  },
  {
   "cell_type": "code",
   "execution_count": 13,
   "id": "77dab9ba",
   "metadata": {
    "scrolled": true
   },
   "outputs": [
    {
     "data": {
      "text/html": [
       "<div>\n",
       "<style scoped>\n",
       "    .dataframe tbody tr th:only-of-type {\n",
       "        vertical-align: middle;\n",
       "    }\n",
       "\n",
       "    .dataframe tbody tr th {\n",
       "        vertical-align: top;\n",
       "    }\n",
       "\n",
       "    .dataframe thead th {\n",
       "        text-align: right;\n",
       "    }\n",
       "</style>\n",
       "<table border=\"1\" class=\"dataframe\">\n",
       "  <thead>\n",
       "    <tr style=\"text-align: right;\">\n",
       "      <th></th>\n",
       "      <th>loan_amount</th>\n",
       "      <th>loan_fee</th>\n",
       "      <th>Unnamed: 6</th>\n",
       "      <th>rate</th>\n",
       "      <th>Unnamed: 9</th>\n",
       "    </tr>\n",
       "  </thead>\n",
       "  <tbody>\n",
       "    <tr>\n",
       "      <th>count</th>\n",
       "      <td>26542.000000</td>\n",
       "      <td>26542.000000</td>\n",
       "      <td>0.0</td>\n",
       "      <td>121.000000</td>\n",
       "      <td>1.0</td>\n",
       "    </tr>\n",
       "    <tr>\n",
       "      <th>mean</th>\n",
       "      <td>1001.790897</td>\n",
       "      <td>129.801400</td>\n",
       "      <td>NaN</td>\n",
       "      <td>12.041322</td>\n",
       "      <td>403.2</td>\n",
       "    </tr>\n",
       "    <tr>\n",
       "      <th>std</th>\n",
       "      <td>1171.862901</td>\n",
       "      <td>160.919748</td>\n",
       "      <td>NaN</td>\n",
       "      <td>1.743544</td>\n",
       "      <td>NaN</td>\n",
       "    </tr>\n",
       "    <tr>\n",
       "      <th>min</th>\n",
       "      <td>70.000000</td>\n",
       "      <td>7.000000</td>\n",
       "      <td>NaN</td>\n",
       "      <td>10.000000</td>\n",
       "      <td>403.2</td>\n",
       "    </tr>\n",
       "    <tr>\n",
       "      <th>25%</th>\n",
       "      <td>150.000000</td>\n",
       "      <td>16.800000</td>\n",
       "      <td>NaN</td>\n",
       "      <td>10.000000</td>\n",
       "      <td>403.2</td>\n",
       "    </tr>\n",
       "    <tr>\n",
       "      <th>50%</th>\n",
       "      <td>420.000000</td>\n",
       "      <td>50.000000</td>\n",
       "      <td>NaN</td>\n",
       "      <td>12.000000</td>\n",
       "      <td>403.2</td>\n",
       "    </tr>\n",
       "    <tr>\n",
       "      <th>75%</th>\n",
       "      <td>1460.000000</td>\n",
       "      <td>182.400000</td>\n",
       "      <td>NaN</td>\n",
       "      <td>12.000000</td>\n",
       "      <td>403.2</td>\n",
       "    </tr>\n",
       "    <tr>\n",
       "      <th>max</th>\n",
       "      <td>3500.000000</td>\n",
       "      <td>525.000000</td>\n",
       "      <td>NaN</td>\n",
       "      <td>15.000000</td>\n",
       "      <td>403.2</td>\n",
       "    </tr>\n",
       "  </tbody>\n",
       "</table>\n",
       "</div>"
      ],
      "text/plain": [
       "        loan_amount      loan_fee  Unnamed: 6        rate  Unnamed: 9\n",
       "count  26542.000000  26542.000000         0.0  121.000000         1.0\n",
       "mean    1001.790897    129.801400         NaN   12.041322       403.2\n",
       "std     1171.862901    160.919748         NaN    1.743544         NaN\n",
       "min       70.000000      7.000000         NaN   10.000000       403.2\n",
       "25%      150.000000     16.800000         NaN   10.000000       403.2\n",
       "50%      420.000000     50.000000         NaN   12.000000       403.2\n",
       "75%     1460.000000    182.400000         NaN   12.000000       403.2\n",
       "max     3500.000000    525.000000         NaN   15.000000       403.2"
      ]
     },
     "execution_count": 13,
     "metadata": {},
     "output_type": "execute_result"
    }
   ],
   "source": [
    "# Summary statistics for Disbursements\n",
    "Disbursements_df.describe()\n"
   ]
  },
  {
   "cell_type": "code",
   "execution_count": null,
   "id": "0d41545f-8246-464f-bb65-e50947f0fce3",
   "metadata": {},
   "outputs": [],
   "source": []
  },
  {
   "cell_type": "code",
   "execution_count": 14,
   "id": "8b5e9fa6-a1bb-405a-bfb4-324ebbccfa24",
   "metadata": {},
   "outputs": [
    {
     "data": {
      "text/html": [
       "<div>\n",
       "<style scoped>\n",
       "    .dataframe tbody tr th:only-of-type {\n",
       "        vertical-align: middle;\n",
       "    }\n",
       "\n",
       "    .dataframe tbody tr th {\n",
       "        vertical-align: top;\n",
       "    }\n",
       "\n",
       "    .dataframe thead th {\n",
       "        text-align: right;\n",
       "    }\n",
       "</style>\n",
       "<table border=\"1\" class=\"dataframe\">\n",
       "  <thead>\n",
       "    <tr style=\"text-align: right;\">\n",
       "      <th></th>\n",
       "      <th>amount</th>\n",
       "    </tr>\n",
       "  </thead>\n",
       "  <tbody>\n",
       "    <tr>\n",
       "      <th>count</th>\n",
       "      <td>65905.000000</td>\n",
       "    </tr>\n",
       "    <tr>\n",
       "      <th>mean</th>\n",
       "      <td>462.488082</td>\n",
       "    </tr>\n",
       "    <tr>\n",
       "      <th>std</th>\n",
       "      <td>838.584103</td>\n",
       "    </tr>\n",
       "    <tr>\n",
       "      <th>min</th>\n",
       "      <td>0.010000</td>\n",
       "    </tr>\n",
       "    <tr>\n",
       "      <th>25%</th>\n",
       "      <td>22.580000</td>\n",
       "    </tr>\n",
       "    <tr>\n",
       "      <th>50%</th>\n",
       "      <td>110.780000</td>\n",
       "    </tr>\n",
       "    <tr>\n",
       "      <th>75%</th>\n",
       "      <td>450.000000</td>\n",
       "    </tr>\n",
       "    <tr>\n",
       "      <th>max</th>\n",
       "      <td>4025.000000</td>\n",
       "    </tr>\n",
       "  </tbody>\n",
       "</table>\n",
       "</div>"
      ],
      "text/plain": [
       "             amount\n",
       "count  65905.000000\n",
       "mean     462.488082\n",
       "std      838.584103\n",
       "min        0.010000\n",
       "25%       22.580000\n",
       "50%      110.780000\n",
       "75%      450.000000\n",
       "max     4025.000000"
      ]
     },
     "execution_count": 14,
     "metadata": {},
     "output_type": "execute_result"
    }
   ],
   "source": [
    "# Exclude rep_month from Repayments summary\n",
    "Repayments_df.drop(columns=['rep_month']).describe()"
   ]
  },
  {
   "cell_type": "code",
   "execution_count": null,
   "id": "fc7def8f-fcfd-4515-8373-5d37a60b45aa",
   "metadata": {},
   "outputs": [],
   "source": []
  },
  {
   "cell_type": "code",
   "execution_count": 15,
   "id": "29c270ef",
   "metadata": {},
   "outputs": [],
   "source": [
    "Disbursements_df['disb_month'] = pd.to_datetime(Disbursements_df['disb_date']).dt.to_period('M')  # Extract month\n",
    "Repayments_df['rep_month'] = pd.to_datetime(Repayments_df['rep_month']).dt.to_period('M')  # Convert to period\n",
    "\n",
    "# Aggregate total loan disbursed and repaid per month\n",
    "disb_monthly = Disbursements_df.groupby('disb_month')['loan_amount'].sum().reset_index()\n",
    "rep_monthly = Repayments_df.groupby('rep_month')['amount'].sum().reset_index()\n",
    "\n",
    "# Rename columns \n",
    "disb_monthly.columns = ['month', 'total_disbursed']\n",
    "rep_monthly.columns = ['month', 'total_repaid']\n",
    "\n",
    "# Merge both datasets\n",
    "profit_loss = pd.merge(disb_monthly, rep_monthly, on='month', how='outer').fillna(0)\n",
    "\n",
    "# Calculate net profit/loss\n",
    "profit_loss['net_profit_loss'] = profit_loss['total_repaid'] - profit_loss['total_disbursed']\n"
   ]
  },
  {
   "cell_type": "code",
   "execution_count": null,
   "id": "3fcd903f-2ba3-4861-bf51-10a83f936240",
   "metadata": {},
   "outputs": [],
   "source": []
  },
  {
   "cell_type": "code",
   "execution_count": 16,
   "id": "36edc277-2bde-4ff6-b338-2d4e76c0ca1a",
   "metadata": {},
   "outputs": [
    {
     "data": {
      "text/html": [
       "<div>\n",
       "<style scoped>\n",
       "    .dataframe tbody tr th:only-of-type {\n",
       "        vertical-align: middle;\n",
       "    }\n",
       "\n",
       "    .dataframe tbody tr th {\n",
       "        vertical-align: top;\n",
       "    }\n",
       "\n",
       "    .dataframe thead th {\n",
       "        text-align: right;\n",
       "    }\n",
       "</style>\n",
       "<table border=\"1\" class=\"dataframe\">\n",
       "  <thead>\n",
       "    <tr style=\"text-align: right;\">\n",
       "      <th></th>\n",
       "      <th>month</th>\n",
       "      <th>total_disbursed</th>\n",
       "      <th>total_repaid</th>\n",
       "      <th>net_profit_loss</th>\n",
       "    </tr>\n",
       "  </thead>\n",
       "  <tbody>\n",
       "    <tr>\n",
       "      <th>0</th>\n",
       "      <td>2024-01</td>\n",
       "      <td>3177425.0</td>\n",
       "      <td>0.00</td>\n",
       "      <td>-3177425.00</td>\n",
       "    </tr>\n",
       "    <tr>\n",
       "      <th>1</th>\n",
       "      <td>2024-02</td>\n",
       "      <td>3428115.0</td>\n",
       "      <td>0.00</td>\n",
       "      <td>-3428115.00</td>\n",
       "    </tr>\n",
       "    <tr>\n",
       "      <th>2</th>\n",
       "      <td>2024-03</td>\n",
       "      <td>3932061.0</td>\n",
       "      <td>0.00</td>\n",
       "      <td>-3932061.00</td>\n",
       "    </tr>\n",
       "    <tr>\n",
       "      <th>3</th>\n",
       "      <td>2024-04</td>\n",
       "      <td>3933810.0</td>\n",
       "      <td>0.00</td>\n",
       "      <td>-3933810.00</td>\n",
       "    </tr>\n",
       "    <tr>\n",
       "      <th>4</th>\n",
       "      <td>2024-05</td>\n",
       "      <td>4014139.0</td>\n",
       "      <td>0.00</td>\n",
       "      <td>-4014139.00</td>\n",
       "    </tr>\n",
       "    <tr>\n",
       "      <th>5</th>\n",
       "      <td>2024-06</td>\n",
       "      <td>3505498.0</td>\n",
       "      <td>0.00</td>\n",
       "      <td>-3505498.00</td>\n",
       "    </tr>\n",
       "    <tr>\n",
       "      <th>6</th>\n",
       "      <td>2024-07</td>\n",
       "      <td>3393428.0</td>\n",
       "      <td>0.00</td>\n",
       "      <td>-3393428.00</td>\n",
       "    </tr>\n",
       "    <tr>\n",
       "      <th>7</th>\n",
       "      <td>2024-08</td>\n",
       "      <td>1205058.0</td>\n",
       "      <td>0.00</td>\n",
       "      <td>-1205058.00</td>\n",
       "    </tr>\n",
       "    <tr>\n",
       "      <th>8</th>\n",
       "      <td>1970-01</td>\n",
       "      <td>0.0</td>\n",
       "      <td>30480277.03</td>\n",
       "      <td>30480277.03</td>\n",
       "    </tr>\n",
       "  </tbody>\n",
       "</table>\n",
       "</div>"
      ],
      "text/plain": [
       "     month  total_disbursed  total_repaid  net_profit_loss\n",
       "0  2024-01        3177425.0          0.00      -3177425.00\n",
       "1  2024-02        3428115.0          0.00      -3428115.00\n",
       "2  2024-03        3932061.0          0.00      -3932061.00\n",
       "3  2024-04        3933810.0          0.00      -3933810.00\n",
       "4  2024-05        4014139.0          0.00      -4014139.00\n",
       "5  2024-06        3505498.0          0.00      -3505498.00\n",
       "6  2024-07        3393428.0          0.00      -3393428.00\n",
       "7  2024-08        1205058.0          0.00      -1205058.00\n",
       "8  1970-01              0.0   30480277.03      30480277.03"
      ]
     },
     "execution_count": 16,
     "metadata": {},
     "output_type": "execute_result"
    }
   ],
   "source": [
    "profit_loss"
   ]
  },
  {
   "cell_type": "code",
   "execution_count": null,
   "id": "9b1f10ad-6721-4f73-8ff0-d9e7fe2340c2",
   "metadata": {},
   "outputs": [],
   "source": []
  },
  {
   "cell_type": "code",
   "execution_count": 17,
   "id": "0d1f5968",
   "metadata": {},
   "outputs": [],
   "source": [
    "#extracting month from df1 disb_date\n",
    "Disbursements_df.loc[:, 'month'] = pd.to_datetime(Disbursements_df['disb_date']).dt.strftime('%Y-%m')\n"
   ]
  },
  {
   "cell_type": "code",
   "execution_count": 18,
   "id": "14ea9a00",
   "metadata": {},
   "outputs": [],
   "source": [
    "#asssuming loan fee is an extra income, and not part of repayment\n",
    "Disbursements_df['net_profit_loss'] = Repayments_df.groupby('customer_id')['amount'].transform('sum') + Disbursements_df['loan_fee'] - Disbursements_df['loan_amount']\n"
   ]
  },
  {
   "cell_type": "code",
   "execution_count": 19,
   "id": "3e639260",
   "metadata": {},
   "outputs": [],
   "source": [
    "Disbursements_df = Disbursements_df.merge(Repayments_df.groupby('customer_id')['amount'].sum().reset_index(), on='customer_id', how='left')\n",
    "Disbursements_df['loan_amount'] = Disbursements_df['loan_amount'].fillna(0)  # Fill missing repayments with 0\n",
    "Disbursements_df.loc[:, 'net_profit_loss'] = Disbursements_df['loan_fee'] + Disbursements_df['loan_amount'] - Disbursements_df['loan_amount']\n"
   ]
  },
  {
   "cell_type": "code",
   "execution_count": 20,
   "id": "715dd0e9",
   "metadata": {},
   "outputs": [
    {
     "data": {
      "text/html": [
       "<div>\n",
       "<style scoped>\n",
       "    .dataframe tbody tr th:only-of-type {\n",
       "        vertical-align: middle;\n",
       "    }\n",
       "\n",
       "    .dataframe tbody tr th {\n",
       "        vertical-align: top;\n",
       "    }\n",
       "\n",
       "    .dataframe thead th {\n",
       "        text-align: right;\n",
       "    }\n",
       "</style>\n",
       "<table border=\"1\" class=\"dataframe\">\n",
       "  <thead>\n",
       "    <tr style=\"text-align: right;\">\n",
       "      <th></th>\n",
       "      <th>customer_id</th>\n",
       "      <th>month</th>\n",
       "      <th>loan_fee</th>\n",
       "      <th>amount</th>\n",
       "      <th>loan_amount</th>\n",
       "      <th>net_profit_loss</th>\n",
       "    </tr>\n",
       "  </thead>\n",
       "  <tbody>\n",
       "    <tr>\n",
       "      <th>0</th>\n",
       "      <td>91810ca1aa097db79f050f38e9946fa5482b4e28c925e2...</td>\n",
       "      <td>2024-03</td>\n",
       "      <td>43.2</td>\n",
       "      <td>5753.4</td>\n",
       "      <td>360</td>\n",
       "      <td>43.2</td>\n",
       "    </tr>\n",
       "    <tr>\n",
       "      <th>1</th>\n",
       "      <td>42ca06e6fe1ff9803e82a5c20184671b54090e488f78d6...</td>\n",
       "      <td>2024-03</td>\n",
       "      <td>7.0</td>\n",
       "      <td>1173.0</td>\n",
       "      <td>70</td>\n",
       "      <td>7.0</td>\n",
       "    </tr>\n",
       "    <tr>\n",
       "      <th>2</th>\n",
       "      <td>b23747f53af805e18ad16a4ef235b6642d88f9134644ff...</td>\n",
       "      <td>2024-03</td>\n",
       "      <td>350.0</td>\n",
       "      <td>92389.8</td>\n",
       "      <td>3500</td>\n",
       "      <td>350.0</td>\n",
       "    </tr>\n",
       "    <tr>\n",
       "      <th>3</th>\n",
       "      <td>1bd32f9b083fc6ddfffd65730fbfa66654fa76a19b0b0e...</td>\n",
       "      <td>2024-03</td>\n",
       "      <td>420.0</td>\n",
       "      <td>28262.5</td>\n",
       "      <td>3500</td>\n",
       "      <td>420.0</td>\n",
       "    </tr>\n",
       "    <tr>\n",
       "      <th>4</th>\n",
       "      <td>e7cfbaa97ba7702c52df5f1dddba54bd26923ebad945f1...</td>\n",
       "      <td>2024-03</td>\n",
       "      <td>12.0</td>\n",
       "      <td>3158.4</td>\n",
       "      <td>120</td>\n",
       "      <td>12.0</td>\n",
       "    </tr>\n",
       "  </tbody>\n",
       "</table>\n",
       "</div>"
      ],
      "text/plain": [
       "                                         customer_id    month  loan_fee  \\\n",
       "0  91810ca1aa097db79f050f38e9946fa5482b4e28c925e2...  2024-03      43.2   \n",
       "1  42ca06e6fe1ff9803e82a5c20184671b54090e488f78d6...  2024-03       7.0   \n",
       "2  b23747f53af805e18ad16a4ef235b6642d88f9134644ff...  2024-03     350.0   \n",
       "3  1bd32f9b083fc6ddfffd65730fbfa66654fa76a19b0b0e...  2024-03     420.0   \n",
       "4  e7cfbaa97ba7702c52df5f1dddba54bd26923ebad945f1...  2024-03      12.0   \n",
       "\n",
       "    amount  loan_amount  net_profit_loss  \n",
       "0   5753.4          360             43.2  \n",
       "1   1173.0           70              7.0  \n",
       "2  92389.8         3500            350.0  \n",
       "3  28262.5         3500            420.0  \n",
       "4   3158.4          120             12.0  "
      ]
     },
     "execution_count": 20,
     "metadata": {},
     "output_type": "execute_result"
    }
   ],
   "source": [
    "Disbursements_df[['customer_id', 'month', 'loan_fee', 'amount', 'loan_amount', 'net_profit_loss']].head()"
   ]
  },
  {
   "cell_type": "code",
   "execution_count": 21,
   "id": "8e952c13",
   "metadata": {},
   "outputs": [],
   "source": [
    "# Total net profir/loss per month\n",
    "df_time_series = Disbursements_df.groupby('month')['net_profit_loss'].sum().reset_index()\n"
   ]
  },
  {
   "cell_type": "code",
   "execution_count": 22,
   "id": "bdfe995b",
   "metadata": {},
   "outputs": [
    {
     "data": {
      "image/png": "[encoded data removed]",
      "text/plain": [
       "<Figure size 1000x500 with 1 Axes>"
      ]
     },
     "metadata": {},
     "output_type": "display_data"
    }
   ],
   "source": [
    "#line graph to visualize trends\n",
    "import matplotlib.pyplot as plt  \n",
    "\n",
    "plt.figure(figsize=(10,5))\n",
    "plt.plot(df_time_series['month'], df_time_series['net_profit_loss'], marker='o', linestyle='-')\n",
    "plt.xlabel('Month')\n",
    "plt.ylabel('Net Profit/Loss')\n",
    "plt.title('Monthly Net Profit/Loss Trend')\n",
    "plt.xticks(rotation=45)\n",
    "plt.grid(True)\n",
    "plt.show()\n"
   ]
  },
  {
   "cell_type": "code",
   "execution_count": 23,
   "id": "6a895c0f",
   "metadata": {},
   "outputs": [
    {
     "data": {
      "image/png": "[encoded data removed]",
      "text/plain": [
       "<Figure size 640x480 with 4 Axes>"
      ]
     },
     "metadata": {},
     "output_type": "display_data"
    }
   ],
   "source": [
    "#Time Series Decomposition \n",
    "from statsmodels.tsa.seasonal import seasonal_decompose  \n",
    "\n",
    "df_time_series['month'] = pd.to_datetime(df_time_series['month'])  \n",
    "df_time_series.set_index('month', inplace=True)  \n",
    "\n",
    "decomposition = seasonal_decompose(df_time_series['net_profit_loss'], model='additive', period=1)  \n",
    "decomposition.plot()  \n",
    "plt.show()\n"
   ]
  },
  {
   "cell_type": "code",
   "execution_count": null,
   "id": "c0097221-cf5f-4f08-b039-da97a37e6440",
   "metadata": {},
   "outputs": [],
   "source": []
  },
  {
   "cell_type": "code",
   "execution_count": 24,
   "id": "6b2d5b9f",
   "metadata": {},
   "outputs": [
    {
     "name": "stdout",
     "output_type": "stream",
     "text": [
      "ADF Statistic: 0.3471420920742502\n",
      "p-value: 0.9794069161353718\n",
      "Critical Values: {'1%': -6.045114, '5%': -3.9292800000000003, '10%': -2.98681}\n",
      "The data is NOT stationary. Differencing is needed.\n"
     ]
    }
   ],
   "source": [
    "# checking for \n",
    "from statsmodels.tsa.stattools import adfuller\n",
    "\n",
    "# Perform ADF test\n",
    "result = adfuller(df_time_series['net_profit_loss'])\n",
    "\n",
    "# Print results\n",
    "print(\"ADF Statistic:\", result[0])\n",
    "print(\"p-value:\", result[1])\n",
    "print(\"Critical Values:\", result[4])\n",
    "\n",
    "# Interpret results\n",
    "if result[1] < 0.05:\n",
    "    print(\"The data is stationary.\")\n",
    "else:\n",
    "    print(\"The data is NOT stationary. Differencing is needed.\")\n"
   ]
  },
  {
   "cell_type": "code",
   "execution_count": null,
   "id": "e357ee3d-b53f-4318-8e2a-6378dd9e4537",
   "metadata": {},
   "outputs": [],
   "source": []
  },
  {
   "cell_type": "code",
   "execution_count": 25,
   "id": "1f54da8d",
   "metadata": {},
   "outputs": [
    {
     "name": "stdout",
     "output_type": "stream",
     "text": [
      "ADF Statistic: 1.5940255878379057\n",
      "p-value: 0.9978395408578127\n",
      "The data is still NOT stationary. Further differencing may be needed.\n"
     ]
    }
   ],
   "source": [
    "#Apply Differencing since p-value = 0.98, since data is not stationary\n",
    "df_time_series['net_profit_loss_diff'] = df_time_series['net_profit_loss'].diff()\n",
    "\n",
    "# Drop the first NaN value after differencing\n",
    "df_time_series = df_time_series.dropna()\n",
    "\n",
    "# Perform ADF test \n",
    "result = adfuller(df_time_series['net_profit_loss_diff'])\n",
    "\n",
    "# Print results\n",
    "print(\"ADF Statistic:\", result[0])\n",
    "print(\"p-value:\", result[1])\n",
    "\n",
    "if result[1] < 0.05:\n",
    "    print(\"The data is now stationary.\")\n",
    "else:\n",
    "    print(\"The data is still NOT stationary. Further differencing may be needed.\")\n"
   ]
  },
  {
   "cell_type": "code",
   "execution_count": null,
   "id": "80d3b49a-41ef-4192-9a9b-0617330118a1",
   "metadata": {},
   "outputs": [],
   "source": []
  },
  {
   "cell_type": "code",
   "execution_count": 26,
   "id": "171919d3",
   "metadata": {},
   "outputs": [],
   "source": [
    "df_time_series['net_profit_loss_diff2'] = df_time_series['net_profit_loss'].diff().diff()\n"
   ]
  },
  {
   "cell_type": "code",
   "execution_count": 27,
   "id": "23a3efd4",
   "metadata": {},
   "outputs": [
    {
     "name": "stdout",
     "output_type": "stream",
     "text": [
      "ADF Statistic: -5.929190139745033\n",
      "p-value: 2.40311739697012e-07\n",
      "The data is stationary.\n"
     ]
    }
   ],
   "source": [
    "#Check whether data is stationary\n",
    "result = adfuller(df_time_series['net_profit_loss_diff2'].dropna())\n",
    "print(\"ADF Statistic:\", result[0])\n",
    "print(\"p-value:\", result[1])\n",
    "if result[1] < 0.05:\n",
    "    print(\"The data is stationary.\")\n",
    "else:\n",
    "    print(\"The data is NOT stationary. Further differencing may be needed.\")\n"
   ]
  },
  {
   "cell_type": "code",
   "execution_count": null,
   "id": "25c498c5-562e-40d0-8888-3b0969df0b62",
   "metadata": {},
   "outputs": [],
   "source": []
  },
  {
   "cell_type": "code",
   "execution_count": 28,
   "id": "4afe807a",
   "metadata": {
    "scrolled": true
   },
   "outputs": [
    {
     "data": {
      "image/png": "[encoded data removed]",
      "text/plain": [
       "<Figure size 600x400 with 1 Axes>"
      ]
     },
     "metadata": {},
     "output_type": "display_data"
    }
   ],
   "source": [
    "# (Use ACF since the dataset is small\n",
    "from statsmodels.graphics.tsaplots import plot_acf\n",
    "import matplotlib.pyplot as plt\n",
    "\n",
    "fig, ax = plt.subplots(figsize=(6, 4))\n",
    "plot_acf(df_time_series['net_profit_loss_diff2'].dropna(), ax=ax, lags=2)  # Reduce lags\n",
    "plt.show()\n"
   ]
  },
  {
   "cell_type": "code",
   "execution_count": null,
   "id": "86b8315c-9d4a-4551-a5c3-6576d0dbaeb1",
   "metadata": {},
   "outputs": [],
   "source": []
  },
  {
   "cell_type": "code",
   "execution_count": 29,
   "id": "bc9905b5",
   "metadata": {},
   "outputs": [],
   "source": [
    "df_time_series.index = pd.to_datetime(df_time_series.index)\n",
    "df_time_series = df_time_series.asfreq('MS')  # 'MS' = Monthly Start\n"
   ]
  },
  {
   "cell_type": "code",
   "execution_count": 30,
   "id": "ef536417",
   "metadata": {
    "scrolled": true
   },
   "outputs": [
    {
     "name": "stdout",
     "output_type": "stream",
     "text": [
      "ADF Statistic: 0.5105599181561364\n",
      "p-value: 0.9851905469826984\n"
     ]
    }
   ],
   "source": [
    "from statsmodels.tsa.stattools import adfuller\n",
    "\n",
    "result = adfuller(df_time_series['net_profit_loss'])\n",
    "print(f'ADF Statistic: {result[0]}')\n",
    "print(f'p-value: {result[1]}')\n"
   ]
  },
  {
   "cell_type": "code",
   "execution_count": null,
   "id": "0f34ffc7-ad53-48ba-a759-8f942eebc35a",
   "metadata": {},
   "outputs": [],
   "source": []
  },
  {
   "cell_type": "code",
   "execution_count": 31,
   "id": "abb0cb51",
   "metadata": {},
   "outputs": [],
   "source": [
    "df_time_series['net_profit_loss'] = df_time_series['net_profit_loss'] / 1e6  \n"
   ]
  },
  {
   "cell_type": "code",
   "execution_count": 32,
   "id": "84c58dd3",
   "metadata": {},
   "outputs": [
    {
     "name": "stderr",
     "output_type": "stream",
     "text": [
      "C:\\Users\\ADMIN\\anaconda3\\Lib\\site-packages\\statsmodels\\tsa\\statespace\\sarimax.py:966: UserWarning: Non-stationary starting autoregressive parameters found. Using zeros as starting parameters.\n",
      "  warn('Non-stationary starting autoregressive parameters'\n",
      "C:\\Users\\ADMIN\\anaconda3\\Lib\\site-packages\\statsmodels\\tsa\\statespace\\sarimax.py:978: UserWarning: Non-invertible starting MA parameters found. Using zeros as starting parameters.\n",
      "  warn('Non-invertible starting MA parameters found.'\n"
     ]
    }
   ],
   "source": [
    "from statsmodels.tsa.arima.model import ARIMA\n",
    "\n",
    "model = ARIMA(df_time_series['net_profit_loss'], order=(1,2,1))\n",
    "model_fit = model.fit()"
   ]
  },
  {
   "cell_type": "code",
   "execution_count": null,
   "id": "120c05d6-8f06-4ad6-967e-7e76453a3ea3",
   "metadata": {},
   "outputs": [],
   "source": []
  },
  {
   "cell_type": "code",
   "execution_count": 33,
   "id": "c9687126-4e08-4944-9c0a-e6b3f65fdc9c",
   "metadata": {},
   "outputs": [
    {
     "data": {
      "text/html": [
       "<table class=\"simpletable\">\n",
       "<caption>SARIMAX Results</caption>\n",
       "<tr>\n",
       "  <th>Dep. Variable:</th>    <td>net_profit_loss</td> <th>  No. Observations:  </th>    <td>7</td>  \n",
       "</tr>\n",
       "<tr>\n",
       "  <th>Model:</th>            <td>ARIMA(1, 2, 1)</td>  <th>  Log Likelihood     </th>  <td>3.695</td>\n",
       "</tr>\n",
       "<tr>\n",
       "  <th>Date:</th>            <td>Fri, 21 Mar 2025</td> <th>  AIC                </th> <td>-1.390</td>\n",
       "</tr>\n",
       "<tr>\n",
       "  <th>Time:</th>                <td>12:12:43</td>     <th>  BIC                </th> <td>-2.562</td>\n",
       "</tr>\n",
       "<tr>\n",
       "  <th>Sample:</th>             <td>02-01-2024</td>    <th>  HQIC               </th> <td>-4.535</td>\n",
       "</tr>\n",
       "<tr>\n",
       "  <th></th>                   <td>- 08-01-2024</td>   <th>                     </th>    <td> </td>  \n",
       "</tr>\n",
       "<tr>\n",
       "  <th>Covariance Type:</th>        <td>opg</td>       <th>                     </th>    <td> </td>  \n",
       "</tr>\n",
       "</table>\n",
       "<table class=\"simpletable\">\n",
       "<tr>\n",
       "     <td></td>       <th>coef</th>     <th>std err</th>      <th>z</th>      <th>P>|z|</th>  <th>[0.025</th>    <th>0.975]</th>  \n",
       "</tr>\n",
       "<tr>\n",
       "  <th>ar.L1</th>  <td>   -0.8868</td> <td>    3.248</td> <td>   -0.273</td> <td> 0.785</td> <td>   -7.253</td> <td>    5.480</td>\n",
       "</tr>\n",
       "<tr>\n",
       "  <th>ma.L1</th>  <td>    0.5055</td> <td>    8.255</td> <td>    0.061</td> <td> 0.951</td> <td>  -15.674</td> <td>   16.685</td>\n",
       "</tr>\n",
       "<tr>\n",
       "  <th>sigma2</th> <td>    0.0117</td> <td>    0.015</td> <td>    0.804</td> <td> 0.421</td> <td>   -0.017</td> <td>    0.040</td>\n",
       "</tr>\n",
       "</table>\n",
       "<table class=\"simpletable\">\n",
       "<tr>\n",
       "  <th>Ljung-Box (L1) (Q):</th>     <td>0.71</td>  <th>  Jarque-Bera (JB):  </th> <td>1.20</td> \n",
       "</tr>\n",
       "<tr>\n",
       "  <th>Prob(Q):</th>                <td>0.40</td>  <th>  Prob(JB):          </th> <td>0.55</td> \n",
       "</tr>\n",
       "<tr>\n",
       "  <th>Heteroskedasticity (H):</th> <td>15.89</td> <th>  Skew:              </th> <td>-1.20</td>\n",
       "</tr>\n",
       "<tr>\n",
       "  <th>Prob(H) (two-sided):</th>    <td>0.12</td>  <th>  Kurtosis:          </th> <td>2.90</td> \n",
       "</tr>\n",
       "</table><br/><br/>Warnings:<br/>[1] Covariance matrix calculated using the outer product of gradients (complex-step)."
      ],
      "text/latex": [
       "\\begin{center}\n",
       "\\begin{tabular}{lclc}\n",
       "\\toprule\n",
       "\\textbf{Dep. Variable:}          & net\\_profit\\_loss & \\textbf{  No. Observations:  } &     7       \\\\\n",
       "\\textbf{Model:}                  &   ARIMA(1, 2, 1)  & \\textbf{  Log Likelihood     } &   3.695     \\\\\n",
       "\\textbf{Date:}                   &  Fri, 21 Mar 2025 & \\textbf{  AIC                } &   -1.390    \\\\\n",
       "\\textbf{Time:}                   &      12:12:43     & \\textbf{  BIC                } &   -2.562    \\\\\n",
       "\\textbf{Sample:}                 &     02-01-2024    & \\textbf{  HQIC               } &   -4.535    \\\\\n",
       "\\textbf{}                        &    - 08-01-2024   & \\textbf{                     } &             \\\\\n",
       "\\textbf{Covariance Type:}        &        opg        & \\textbf{                     } &             \\\\\n",
       "\\bottomrule\n",
       "\\end{tabular}\n",
       "\\begin{tabular}{lcccccc}\n",
       "                & \\textbf{coef} & \\textbf{std err} & \\textbf{z} & \\textbf{P$> |$z$|$} & \\textbf{[0.025} & \\textbf{0.975]}  \\\\\n",
       "\\midrule\n",
       "\\textbf{ar.L1}  &      -0.8868  &        3.248     &    -0.273  &         0.785        &       -7.253    &        5.480     \\\\\n",
       "\\textbf{ma.L1}  &       0.5055  &        8.255     &     0.061  &         0.951        &      -15.674    &       16.685     \\\\\n",
       "\\textbf{sigma2} &       0.0117  &        0.015     &     0.804  &         0.421        &       -0.017    &        0.040     \\\\\n",
       "\\bottomrule\n",
       "\\end{tabular}\n",
       "\\begin{tabular}{lclc}\n",
       "\\textbf{Ljung-Box (L1) (Q):}     &  0.71 & \\textbf{  Jarque-Bera (JB):  } &  1.20  \\\\\n",
       "\\textbf{Prob(Q):}                &  0.40 & \\textbf{  Prob(JB):          } &  0.55  \\\\\n",
       "\\textbf{Heteroskedasticity (H):} & 15.89 & \\textbf{  Skew:              } & -1.20  \\\\\n",
       "\\textbf{Prob(H) (two-sided):}    &  0.12 & \\textbf{  Kurtosis:          } &  2.90  \\\\\n",
       "\\bottomrule\n",
       "\\end{tabular}\n",
       "%\\caption{SARIMAX Results}\n",
       "\\end{center}\n",
       "\n",
       "Warnings: \\newline\n",
       " [1] Covariance matrix calculated using the outer product of gradients (complex-step)."
      ],
      "text/plain": [
       "<class 'statsmodels.iolib.summary.Summary'>\n",
       "\"\"\"\n",
       "                               SARIMAX Results                                \n",
       "==============================================================================\n",
       "Dep. Variable:        net_profit_loss   No. Observations:                    7\n",
       "Model:                 ARIMA(1, 2, 1)   Log Likelihood                   3.695\n",
       "Date:                Fri, 21 Mar 2025   AIC                             -1.390\n",
       "Time:                        12:12:43   BIC                             -2.562\n",
       "Sample:                    02-01-2024   HQIC                            -4.535\n",
       "                         - 08-01-2024                                         \n",
       "Covariance Type:                  opg                                         \n",
       "==============================================================================\n",
       "                 coef    std err          z      P>|z|      [0.025      0.975]\n",
       "------------------------------------------------------------------------------\n",
       "ar.L1         -0.8868      3.248     -0.273      0.785      -7.253       5.480\n",
       "ma.L1          0.5055      8.255      0.061      0.951     -15.674      16.685\n",
       "sigma2         0.0117      0.015      0.804      0.421      -0.017       0.040\n",
       "===================================================================================\n",
       "Ljung-Box (L1) (Q):                   0.71   Jarque-Bera (JB):                 1.20\n",
       "Prob(Q):                              0.40   Prob(JB):                         0.55\n",
       "Heteroskedasticity (H):              15.89   Skew:                            -1.20\n",
       "Prob(H) (two-sided):                  0.12   Kurtosis:                         2.90\n",
       "===================================================================================\n",
       "\n",
       "Warnings:\n",
       "[1] Covariance matrix calculated using the outer product of gradients (complex-step).\n",
       "\"\"\""
      ]
     },
     "execution_count": 33,
     "metadata": {},
     "output_type": "execute_result"
    }
   ],
   "source": [
    "model_fit.summary()"
   ]
  },
  {
   "cell_type": "code",
   "execution_count": null,
   "id": "c8f8653d-2f5a-435c-a3f9-cd9d61736c5e",
   "metadata": {},
   "outputs": [],
   "source": []
  },
  {
   "cell_type": "code",
   "execution_count": 34,
   "id": "522ef526",
   "metadata": {},
   "outputs": [
    {
     "name": "stdout",
     "output_type": "stream",
     "text": [
      "2024-09-01    0.001849\n",
      "2024-10-01   -0.267633\n",
      "2024-11-01   -0.438441\n",
      "Freq: MS, Name: predicted_mean, dtype: float64\n"
     ]
    }
   ],
   "source": [
    " # 3-month forecast\n",
    "forecast = model_fit.forecast(steps=3) \n",
    "print(forecast)\n"
   ]
  },
  {
   "cell_type": "code",
   "execution_count": null,
   "id": "ec9f1b44-a98c-42e4-a529-ee782a20faa8",
   "metadata": {},
   "outputs": [],
   "source": []
  }
 ],
 "metadata": {
  "kernelspec": {
   "display_name": "Python 3 (ipykernel)",
   "language": "python",
   "name": "python3"
  },
  "language_info": {
   "codemirror_mode": {
    "name": "ipython",
    "version": 3
   },
   "file_extension": ".py",
   "mimetype": "text/x-python",
   "name": "python",
   "nbconvert_exporter": "python",
   "pygments_lexer": "ipython3",
   "version": "3.11.4"
  }
 },
 "nbformat": 4,
 "nbformat_minor": 5
}
